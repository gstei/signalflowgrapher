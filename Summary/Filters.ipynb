{
 "cells": [
  {
   "attachments": {},
   "cell_type": "markdown",
   "metadata": {},
   "source": [
    "\n",
    "\\begin{array}{cll}\n",
    "\\hline & \\text { Capacitors } & \\text { Inductors } \\\\\n",
    "\\hline \\text { Differential } i-v & i=C \\frac{d v}{d t} & v=L \\frac{d i}{d t} \\\\\n",
    "\\text { Integral } i-v & v_C(t)=\\frac{1}{C} \\int_{-\\infty}^t i_C(\\tau) d \\tau & i_C(t)=\\frac{1}{L} \\int_{-\\infty}^t v_L(\\tau) d \\tau \\\\\n",
    "\\text { DC equivalent } & \\text { Open-circuit } & \\text { Short-circuit } \\\\\n",
    "\\text { Two in series } & C_{\\mathrm{eq}}=\\frac{C_1 C_2}{C_1+C_2} & L_{\\mathrm{eq}}=L_1+L_2 \\\\\n",
    "\\text { Two in parallel } & C_{\\mathrm{eq}}=C_1+C_2 & L_{\\mathrm{eq}}=\\frac{L_1 L_2}{L_1+L_2} \\\\\n",
    "\\text { Stored energy } & W_C=\\frac{1}{2} C v_C^2 & W_L=\\frac{1}{2} L i_L^2 \\\\\n",
    "\\hline\n",
    "\\end{array}"
   ]
  },
  {
   "cell_type": "code",
   "execution_count": null,
   "metadata": {},
   "outputs": [],
   "source": []
  }
 ],
 "metadata": {
  "language_info": {
   "name": "python"
  },
  "orig_nbformat": 4
 },
 "nbformat": 4,
 "nbformat_minor": 2
}
