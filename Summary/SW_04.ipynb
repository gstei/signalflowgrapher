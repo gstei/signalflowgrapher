{
 "cells": [
  {
   "attachments": {},
   "cell_type": "markdown",
   "metadata": {},
   "source": [
    "# SW3\n",
    "\n",
    "<p align=\"center\">\n",
    "<img src=\"Figures/SW04_01.png\"\n",
    "     width=40% />\n",
    "</p>\n",
    "\n",
    "\n"
   ]
  },
  {
   "attachments": {},
   "cell_type": "markdown",
   "metadata": {},
   "source": [
    "It is important to always have the units of white noise in mind $\\frac{V^2}{H z}$ those one can search in the datasheet.\n",
    "$$\\begin{aligned} & V_{n, v m s}^2=\\int_{f_1}^{f_2} &V_n^2& d f \\\\ & \\left[V^2\\right] &\\left[\\frac{V^2}{H z}\\right]&[H z] \\\\ & \\end{aligned}$$\n",
    "### Noise of a resistance:\n",
    "\n",
    "#### Voltage\n",
    "<p align=\"center\">\n",
    "<img src=\"Figures/SW04_02.png\"\n",
    "     width=30% />\n",
    "</p>\n",
    "\n",
    "$k=1.38\\cdot 10^{-23}\\frac{J}{K}$\n",
    "$$V_n^2=4 k T R$$\n",
    "Therefore for $R=1k\\Omega, T=300K \\Rightarrow V_n^2=4\\frac{nV}{\\sqrt{Hz}}$\n",
    "\n",
    "#### Current:\n",
    "<p align=\"center\">\n",
    "<img src=\"Figures/SW04_03.png\"\n",
    "     width=30% />\n",
    "</p>\n",
    "\n",
    "$$\n",
    "I_n^2=4 k T G\n",
    "$$\n",
    "\n",
    "To get back to the exercise we know the following:\n",
    "<p align=\"center\">\n",
    "<img src=\"Figures/SW04_04.png\"\n",
    "     width=50% />\n",
    "</p>\n",
    "<p align=\"center\">\n",
    "<img src=\"Figures/SW04_05.png\"\n",
    "     width=50% />\n",
    "</p>\n",
    "\n",
    "From the last week we know that the sfg looks like the following: Where $R_m\\approx{1}{sC_m}$ actually it would be $sC_m+g_0$.\n",
    "\n",
    "<p align=\"center\">\n",
    "<img src=\"Figures/SW04_06.png\"\n",
    "     width=50% />\n",
    "</p>\n",
    "\n",
    "Therefore we get then the following:\n",
    "\n",
    "<p align=\"center\">\n",
    "<img src=\"Figures/SW04_07.png\"\n",
    "     width=50% />\n",
    "</p>"
   ]
  },
  {
   "attachments": {},
   "cell_type": "markdown",
   "metadata": {},
   "source": []
  },
  {
   "cell_type": "code",
   "execution_count": null,
   "metadata": {
    "vscode": {
     "languageId": "plaintext"
    }
   },
   "outputs": [],
   "source": []
  },
  {
   "cell_type": "code",
   "execution_count": null,
   "metadata": {
    "vscode": {
     "languageId": "plaintext"
    }
   },
   "outputs": [],
   "source": []
  }
 ],
 "metadata": {
  "kernelspec": {
   "display_name": "sfg",
   "language": "python",
   "name": "python3"
  },
  "language_info": {
   "codemirror_mode": {
    "name": "ipython",
    "version": 3
   },
   "file_extension": ".py",
   "mimetype": "text/x-python",
   "name": "python",
   "nbconvert_exporter": "python",
   "pygments_lexer": "ipython3",
   "version": "3.11.0"
  },
  "orig_nbformat": 4
 },
 "nbformat": 4,
 "nbformat_minor": 2
}
