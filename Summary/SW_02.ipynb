{
 "cells": [
  {
   "attachments": {},
   "cell_type": "markdown",
   "metadata": {},
   "source": [
    "# SW 2 Signal flow grapher\n",
    "See the following [repo](https://github.com/hanspi42/signalflowgrapher) for the enviornment settings.\n",
    "<!-- ![alternative text](Figures/SW2_01.png) -->\n",
    "<img src=\"Figures/SW2_01.png\" \n",
    "     align=\"center\" \n",
    "     width=\"450\" />"
   ]
  },
  {
   "attachments": {},
   "cell_type": "markdown",
   "metadata": {},
   "source": [
    "\\begin{aligned}\n",
    "& v(t)=\\frac{1}{C} \\int_0^t i(t) d t . \\\\\n",
    "& V(s)=\\frac{1}{s C} I(s) \\quad \\begin{array}{l}\n",
    "\\text{Laplace} \\\\\n",
    "\\text{Transform}\n",
    "\\end{array} \\\\\n",
    "& I=S C \\cdot V \\\\\n",
    "& I=G \\cdot V\n",
    "\\end{aligned}"
   ]
  },
  {
   "attachments": {},
   "cell_type": "markdown",
   "metadata": {},
   "source": [
    "## Procedure:\n",
    "\n",
    "1. Analize the circuit\n",
    "\n",
    "<img src=\"Figures/SW2_02.png\" \n",
    "     align=\"center\" \n",
    "     width=\"450\" />\n",
    "\n",
    "2. Draw the voltage sources\n",
    "\n",
    "<img src=\"Figures/SW2_03.png\" \n",
    "     align=\"center\" \n",
    "     width=\"450\" />\n",
    "\n",
    "3. Draw the current sources everywhere where no voltage source is\n",
    "\n",
    "<img src=\"Figures/SW2_04.png\" \n",
    "     align=\"center\" \n",
    "     width=\"450\" />\n",
    "\n",
    "4. Draw the graph\n",
    "\n",
    "<img src=\"Figures/SW2_05.png\" \n",
    "     align=\"center\" \n",
    "     width=\"450\" />\n",
    "\n",
    "5. Start signal flow grapher with the following command `python .\\src\\main\\python\\main.py` in the 'signalflowgrapher' folder (make also sure the correct environment is activated `conda activate sfg`)\n",
    "6. Draw the graph in the signal flow grapher:\n",
    "\n",
    "<img src=\"Figures/SW2_06.png\" \n",
    "     align=\"center\" \n",
    "     width=\"450\" />\n",
    "\n",
    "7. Copy maison, see below"
   ]
  },
  {
   "cell_type": "code",
   "execution_count": 1,
   "metadata": {},
   "outputs": [
    {
     "data": {
      "text/latex": [
       "$\\displaystyle - \\frac{A G_{1}}{A G_{2} + G_{1} + G_{2}}$"
      ],
      "text/plain": [
       "-A*G_1/(A*G_2 + G_1 + G_2)"
      ]
     },
     "metadata": {},
     "output_type": "display_data"
    }
   ],
   "source": [
    "from sympy import *\n",
    "import sympy as sp\n",
    "import numpy as np\n",
    "import hanspitools as ht\n",
    "import matplotlib.pyplot as plt\n",
    "Delta = sp.symbols('Delta')\n",
    "L1 = sp.symbols('L1')\n",
    "T_num = sp.symbols('T_num')\n",
    "T_den = sp.symbols('T_den')\n",
    "T_io = sp.symbols('T_io')\n",
    "G_1,G_2,A = sp.symbols('G_1,G_2,A')\n",
    "\n",
    "loops = [(L1, -A*G_2/(G_1 + G_2))]\n",
    "determinant = [(Delta, 1 - L1)]\n",
    "denominator = [(T_den, Delta)]\n",
    "\n",
    "P1,D1 = sp.symbols('P1,D1')\n",
    "paths = [(P1, -A*G_1/(G_1 + G_2)), (D1, 1)]\n",
    "numerator = [(T_num, D1*P1)]\n",
    "\n",
    "transfer_function = [(T_io, T_num/T_den)]\n",
    "T=T_io.subs(transfer_function).subs(numerator).subs(denominator).subs(determinant).subs(paths).subs(loops).simplify()\n",
    "display(T)"
   ]
  },
  {
   "cell_type": "code",
   "execution_count": 2,
   "metadata": {},
   "outputs": [
    {
     "name": "stdout",
     "output_type": "stream",
     "text": [
      "0.9998000399920016\n"
     ]
    }
   ],
   "source": [
    "s=sp.symbols('s')\n",
    "def niceT(T):\n",
    "    return ht.mani.numden(lambda p: ht.mani.nicepoly(p,s),T)\n",
    "def keeper(f,v):\n",
    "    return sp.limit(f/v,v,sp.oo)*v\n",
    "f=10.0**np.arange(1,8,0.01)\n",
    "wn = 2*sp.pi*f\n",
    "comp_val= [(G_1, 1), (G_2, 1), (A, 10000)]\n",
    "T_a = ht.freq.amplitude(T,s,wn,comp_val)\n",
    "print(T_a)\n",
    "# T_p = ht.freq.phase(T,s,wn,comp_val)"
   ]
  },
  {
   "attachments": {},
   "cell_type": "markdown",
   "metadata": {},
   "source": [
    "____"
   ]
  },
  {
   "attachments": {},
   "cell_type": "markdown",
   "metadata": {},
   "source": [
    "## Exercises\n",
    "### 1.24\n",
    "\n",
    "<p align=\"center\">\n",
    "<img src=\"Figures/SW2_10.png\"\n",
    "     width=60% />\n",
    "</p>\n",
    "\n",
    "1. First of all one has to redraw the circuit to read it in an easier way:\n",
    "\n",
    "<p align=\"center\">\n",
    "<img src=\"Figures/SW2_11.png\"\n",
    "     width=40% />\n",
    "</p>\n",
    "\n",
    "2. The one can draw the circuit in the signal flow grapher:\n",
    "\n",
    "<p align=\"center\">\n",
    "<img src=\"Figures/SW2_12.png\"\n",
    "     width=40% />\n",
    "</p>\n",
    "\n",
    "Here we assumed that we have finite gain. "
   ]
  },
  {
   "cell_type": "code",
   "execution_count": 3,
   "metadata": {},
   "outputs": [
    {
     "data": {
      "text/latex": [
       "$\\displaystyle - \\frac{A \\left(G_{1} - k \\left(G_{1} + G_{2}\\right)\\right)}{A G_{2} + G_{1} + G_{2}}$"
      ],
      "text/plain": [
       "-A*(G_1 - k*(G_1 + G_2))/(A*G_2 + G_1 + G_2)"
      ]
     },
     "metadata": {},
     "output_type": "display_data"
    }
   ],
   "source": [
    "# Plot the equation we got from the signal flow grapher\n",
    "import sympy as sp\n",
    "import numpy as np\n",
    "import hanspitools as ht\n",
    "import matplotlib.pyplot as plt\n",
    "import ipywidgets as widgets\n",
    "from ipywidgets.embed import embed_minimal_html\n",
    "def niceT(T,s):\n",
    "    return ht.mani.numden(lambda p: ht.mani.nicepoly(p,s),T)\n",
    "def di(x):\n",
    "    display(x)\n",
    "    # print(latex(x))\n",
    "def sigdig(expr, num_digits):\n",
    "    return expr.xreplace({n.evalf() : n if type(n)==int else Float(n, num_digits) for n in expr.atoms(Number)})\n",
    "def eseries(v, E):\n",
    "    return 10**((log(v, 10)*E).round()/E)\n",
    "Delta = sp.symbols('Delta')\n",
    "L1 = sp.symbols('L1')\n",
    "T_num = sp.symbols('T_num')\n",
    "T_den = sp.symbols('T_den')\n",
    "T_io = sp.symbols('T_io')\n",
    "A,G_1,G_3,k,G_2 = sp.symbols('A,G_1,G_3,k,G_2')\n",
    "\n",
    "loops = [(L1, -A*G_2/(G_1 + G_2))]\n",
    "determinant = [(Delta, 1 - L1)]\n",
    "denominator = [(T_den, Delta)]\n",
    "\n",
    "P1,D1,P2,D2 = sp.symbols('P1,D1,P2,D2')\n",
    "paths = [(P1, -A*G_1/(G_1 + G_2)), (D1, 1), (P2, A*G_3/((1 - k)*(G_3/(1 - k) + G_3/k))), (D2, 1)]\n",
    "numerator = [(T_num, D1*P1 + D2*P2)]\n",
    "\n",
    "transfer_function = [(T_io, T_num/T_den)]\n",
    "T_1=T_io.subs(transfer_function).subs(numerator).subs(denominator).subs(determinant).subs(paths).subs(loops).simplify()\n",
    "display(T_1)\n"
   ]
  },
  {
   "cell_type": "code",
   "execution_count": 4,
   "metadata": {},
   "outputs": [
    {
     "data": {
      "application/vnd.jupyter.widget-view+json": {
       "model_id": "e81b37008fff4b55a2065cdfd1611bcf",
       "version_major": 2,
       "version_minor": 0
      },
      "text/plain": [
       "interactive(children=(FloatSlider(value=0.5, description='potentionmeter', max=1.0), FloatSlider(value=1.0, de…"
      ]
     },
     "metadata": {},
     "output_type": "display_data"
    }
   ],
   "source": [
    "#Lets plot the gain\n",
    "from IPython.display import display\n",
    "def plot_gain(potentionmeter=0.5,r2_over_r1=1, R_3=1e3, gain=10000):\n",
    "    \"\"\"A function to plot the gain of the amplifier\"\"\"\n",
    "    plt.figure(figsize=(10,2))\n",
    "    R_1=1e3\n",
    "    R_2=R_1*r2_over_r1\n",
    "    comp_val= [(G_1, 1/R_1), (G_2, 1/R_2), (G_3, 1/R_3), (A, gain), (k, potentionmeter)]\n",
    "    Ta = T_1.subs(comp_val)\n",
    "    plt.plot(Ta,0, 'bo')\n",
    "    plt.title('gain plot')\n",
    "    plt.xlim(-1,1)\n",
    "    plt.ylim(-1,1)\n",
    "    plt.grid()\n",
    "    plt.show()\n",
    "slider=widgets.interact(plot_gain,potentionmeter=(0.0,1),r2_over_r1=(0.1,2),R_3=(1e2,1e4),gain=(1e1,1e5))\n",
    "# embed_minimal_html('export.html', views=[slider], title='Widgets export')"
   ]
  },
  {
   "attachments": {},
   "cell_type": "markdown",
   "metadata": {},
   "source": [
    "3. With invinite gain the graph would look like the following:\n",
    "\n",
    "<p align=\"center\">\n",
    "<img src=\"Figures/SW2_13.png\"\n",
    "     width=40% />\n",
    "</p>"
   ]
  },
  {
   "cell_type": "code",
   "execution_count": 5,
   "metadata": {},
   "outputs": [
    {
     "data": {
      "text/latex": [
       "$\\displaystyle \\frac{- G_{1} + k \\left(G_{1} + G_{2}\\right)}{G_{2}}$"
      ],
      "text/plain": [
       "(-G_1 + k*(G_1 + G_2))/G_2"
      ]
     },
     "metadata": {},
     "output_type": "display_data"
    },
    {
     "data": {
      "text/latex": [
       "$\\displaystyle - \\frac{G_{1}}{G_{2}} + \\frac{k \\left(G_{1} + G_{2}\\right)}{G_{2}}$"
      ],
      "text/plain": [
       "-G_1/G_2 + k*(G_1 + G_2)/G_2"
      ]
     },
     "execution_count": 5,
     "metadata": {},
     "output_type": "execute_result"
    }
   ],
   "source": [
    "# Plot the equation we got from the signal flow grapher\n",
    "Delta = sp.symbols('Delta')\n",
    "L1,L2 = sp.symbols('L1,L2')\n",
    "T_num = sp.symbols('T_num')\n",
    "T_den = sp.symbols('T_den')\n",
    "T_io = sp.symbols('T_io')\n",
    "G_3,k,G_1,G_2 = sp.symbols('G_3,k,G_1,G_2')\n",
    "\n",
    "loops = [(L1, -G_2/(G_1 + G_2)), (L2, 1)]\n",
    "determinant = [(Delta, -L1 - L2 + 1)]\n",
    "denominator = [(T_den, Delta)]\n",
    "\n",
    "P1,D1,P2,D2 = sp.symbols('P1,D1,P2,D2')\n",
    "paths = [(P1, -G_1/(G_1 + G_2)), (D1, 1), (P2, G_3/((1 - k)*(G_3/(1 - k) + G_3/k))), (D2, 1)]\n",
    "numerator = [(T_num, D1*P1 + D2*P2)]\n",
    "\n",
    "transfer_function = [(T_io, T_num/T_den)]\n",
    "T=T_io.subs(transfer_function).subs(numerator).subs(denominator).subs(determinant).subs(paths).subs(loops).simplify()\n",
    "display(T)\n",
    "niceT(T.expand(), k)"
   ]
  },
  {
   "attachments": {},
   "cell_type": "markdown",
   "metadata": {},
   "source": [
    "From the euqation above we see that the description in the exercise is true when $R_1=R_2 \\Rightarrow G_1=G_2$\n",
    "\n",
    "- when $k=0 \\Rightarrow -\\frac{G_1}{G_2}=-1$ \n",
    "- when $k=1 \\Rightarrow -\\frac{G_1}{G_2}+ \\frac{k(G_1+G_2)}{G_2}=1$ "
   ]
  },
  {
   "attachments": {},
   "cell_type": "markdown",
   "metadata": {},
   "source": [
    "#### (b) Additional resistor only changes one branch in the SFG\n",
    "\n",
    "The function with finite gain look therefore like the following:"
   ]
  },
  {
   "cell_type": "code",
   "execution_count": 6,
   "metadata": {},
   "outputs": [
    {
     "data": {
      "text/latex": [
       "$\\displaystyle - \\frac{A \\left(G_{1} - k \\left(G_{1} + G_{2} + G_{4}\\right)\\right)}{A G_{2} + G_{1} + G_{2} + G_{4}}$"
      ],
      "text/plain": [
       "-A*(G_1 - k*(G_1 + G_2 + G_4))/(A*G_2 + G_1 + G_2 + G_4)"
      ]
     },
     "metadata": {},
     "output_type": "display_data"
    },
    {
     "data": {
      "application/vnd.jupyter.widget-view+json": {
       "model_id": "390a558fca4a4a21bda2878f6c13a3f6",
       "version_major": 2,
       "version_minor": 0
      },
      "text/plain": [
       "interactive(children=(FloatSlider(value=0.5, description='potentionmeter', max=1.0), FloatSlider(value=1.0, de…"
      ]
     },
     "metadata": {},
     "output_type": "display_data"
    },
    {
     "data": {
      "text/plain": [
       "<function __main__.plot_gain(potentionmeter=0.5, r2_over_r1=1, R_3=1000.0, R_4=1000.0, gain=10000)>"
      ]
     },
     "execution_count": 6,
     "metadata": {},
     "output_type": "execute_result"
    }
   ],
   "source": [
    "import sympy as sp\n",
    "Delta = sp.symbols('Delta')\n",
    "L1 = sp.symbols('L1')\n",
    "T_num = sp.symbols('T_num')\n",
    "T_den = sp.symbols('T_den')\n",
    "T_io = sp.symbols('T_io')\n",
    "A,G_1,G_3,k,G_4,G_2 = sp.symbols('A,G_1,G_3,k,G_4,G_2')\n",
    "\n",
    "loops = [(L1, -A*G_2/(G_1 + G_2 + G_4))]\n",
    "determinant = [(Delta, 1 - L1)]\n",
    "denominator = [(T_den, Delta)]\n",
    "\n",
    "P1,D1,P2,D2 = sp.symbols('P1,D1,P2,D2')\n",
    "paths = [(P1, -A*G_1/(G_1 + G_2 + G_4)), (D1, 1), (P2, A*G_3/((1 - k)*(G_3/(1 - k) + G_3/k))), (D2, 1)]\n",
    "numerator = [(T_num, D1*P1 + D2*P2)]\n",
    "\n",
    "transfer_function = [(T_io, T_num/T_den)]\n",
    "A_f=T_io.subs(transfer_function).subs(numerator).subs(denominator).subs(determinant).subs(paths).subs(loops).simplify()\n",
    "display(A_f)\n",
    "def plot_gain(potentionmeter=0.5,r2_over_r1=1, R_3=1e3, R_4=1e3,gain=10000):\n",
    "    #create matplotlib figure with size 10x10\n",
    "    plt.figure(figsize=(10,2))\n",
    "    R_1=1e3\n",
    "    R_2=R_1*r2_over_r1\n",
    "    comp_val= [(G_1, 1/R_1), (G_2, 1/R_2), (G_3, 1/R_3), (G_4, 1/R_4), (A, gain), (k, potentionmeter)]\n",
    "    Ta = A_f.subs(comp_val)\n",
    "    plt.plot(Ta,0, 'bo')\n",
    "    plt.title('gain plot')\n",
    "    plt.xlim(-6,6)\n",
    "    plt.ylim(-1,1)\n",
    "    plt.grid()\n",
    "    plt.show()\n",
    "widgets.interact(plot_gain,potentionmeter=(0.0,1),r2_over_r1=(0.1,2),R_3=(1e2,1e4),R_4=(1e2,1e4),gain=(1e1,1e5))"
   ]
  },
  {
   "attachments": {},
   "cell_type": "markdown",
   "metadata": {},
   "source": [
    "2. With invinite gain like the following"
   ]
  },
  {
   "cell_type": "code",
   "execution_count": 7,
   "metadata": {},
   "outputs": [
    {
     "data": {
      "text/latex": [
       "$\\displaystyle \\frac{- G_{1} + k \\left(G_{1} + G_{2} + G_{4}\\right)}{G_{2}}$"
      ],
      "text/plain": [
       "(-G_1 + k*(G_1 + G_2 + G_4))/G_2"
      ]
     },
     "metadata": {},
     "output_type": "display_data"
    }
   ],
   "source": [
    "import sympy as sp\n",
    "Delta = sp.symbols('Delta')\n",
    "L1,L2 = sp.symbols('L1,L2')\n",
    "T_num = sp.symbols('T_num')\n",
    "T_den = sp.symbols('T_den')\n",
    "T_io = sp.symbols('T_io')\n",
    "G_3,k,G_4,G_1,G_2 = sp.symbols('G_3,k,G_4,G_1,G_2')\n",
    "\n",
    "loops = [(L1, -G_2/(G_1 + G_2 + G_4)), (L2, 1)]\n",
    "determinant = [(Delta, -L1 - L2 + 1)]\n",
    "denominator = [(T_den, Delta)]\n",
    "\n",
    "P1,D1,P2,D2 = sp.symbols('P1,D1,P2,D2')\n",
    "paths = [(P1, -G_1/(G_1 + G_2 + G_4)), (D1, 1), (P2, G_3/((1 - k)*(G_3/(1 - k) + G_3/k))), (D2, 1)]\n",
    "numerator = [(T_num, D1*P1 + D2*P2)]\n",
    "\n",
    "transfer_function = [(T_io, T_num/T_den)]\n",
    "T_4=T_io.subs(transfer_function).subs(numerator).subs(denominator).subs(determinant).subs(paths).subs(loops).simplify()\n",
    "display(T_4)"
   ]
  },
  {
   "cell_type": "code",
   "execution_count": 8,
   "metadata": {},
   "outputs": [
    {
     "data": {
      "text/latex": [
       "$\\displaystyle - \\frac{G_{1}}{G_{2}}$"
      ],
      "text/plain": [
       "-G_1/G_2"
      ]
     },
     "metadata": {},
     "output_type": "display_data"
    },
    {
     "data": {
      "text/latex": [
       "$\\displaystyle \\frac{G_{2} + G_{4}}{G_{2}}$"
      ],
      "text/plain": [
       "(G_2 + G_4)/G_2"
      ]
     },
     "metadata": {},
     "output_type": "display_data"
    }
   ],
   "source": [
    "niceT(T_4.expand(), k)\n",
    "A_min, A_max = [ T_4.subs(k, x) for x in range(2) ] \n",
    "di(A_min)\n",
    "di(A_max)"
   ]
  },
  {
   "attachments": {},
   "cell_type": "markdown",
   "metadata": {},
   "source": [
    "3. Now we want to determine $G_1,G_2,G_4$ in such a way that the output gain is from -5V to 5V when varying $k$. For that one can use the euations above. When $k=0$ we have the first equation when $k=1$ the second one. Furthermore we can set one value since we have three independent ones $\\Rightarrow$ lets say $R_1=10kOhm$. Due to that one can set up the following equation system:\n"
   ]
  },
  {
   "cell_type": "code",
   "execution_count": 9,
   "metadata": {},
   "outputs": [
    {
     "data": {
      "text/plain": [
       "[Eq(G_1, 0.0001), Eq(-G_1/G_2, -5), Eq((G_2 + G_4)/G_2, 5)]"
      ]
     },
     "metadata": {},
     "output_type": "display_data"
    },
    {
     "data": {
      "text/plain": [
       "[{G_1: 0.000100000000000000,\n",
       "  G_2: 2.00000000000000e-5,\n",
       "  G_4: 8.00000000000000e-5}]"
      ]
     },
     "metadata": {},
     "output_type": "display_data"
    },
    {
     "name": "stdout",
     "output_type": "stream",
     "text": [
      "1/G_1 = 10 kOhm\n",
      "1/G_2 = 50 kOhm\n",
      "1/G_4 = 12.5 kOhm\n"
     ]
    },
    {
     "data": {
      "application/vnd.jupyter.widget-view+json": {
       "model_id": "28b7d13c0ca141c88e4922333c9fcf26",
       "version_major": 2,
       "version_minor": 0
      },
      "text/plain": [
       "interactive(children=(FloatSlider(value=0.5, description='potentionmeter', max=1.0), FloatSlider(value=1000.0,…"
      ]
     },
     "metadata": {},
     "output_type": "display_data"
    },
    {
     "data": {
      "text/plain": [
       "<function __main__.plot_gain(potentionmeter=0.5, R_3=1000.0)>"
      ]
     },
     "execution_count": 9,
     "metadata": {},
     "output_type": "execute_result"
    }
   ],
   "source": [
    "R_1=10e3\n",
    "eqs = [Eq(G_1, 1/R_1), Eq(A_min, -5), Eq(A_max, 5)]\n",
    "di(eqs)\n",
    "sols = solve(eqs, [G_1, G_2, G_4], dict=True)\n",
    "di(sols)\n",
    "for g, x in sols[0].items():\n",
    "    print('1/%s = %g kOhm' % (g, 1/x/1000))\n",
    "\n",
    "def plot_gain(potentionmeter=0.5, R_3=1e3):\n",
    "    #create matplotlib figure with size 10x10\n",
    "    plt.figure(figsize=(10,2))\n",
    "    R_1=1/sols[0][G_1]\n",
    "    R_2=1/sols[0][G_2]\n",
    "    R_4=1/sols[0][G_4]\n",
    "    comp_val= [(G_1, 1/R_1), (G_2, 1/R_2), (G_3, 1/R_3), (G_4, 1/R_4), (k, potentionmeter)]\n",
    "    Ta = T_4.subs(comp_val)\n",
    "    plt.plot(Ta,0, 'bo')\n",
    "    plt.title('gain plot')\n",
    "    plt.xlim(-5,5)\n",
    "    plt.ylim(-1,1)\n",
    "    plt.grid()\n",
    "    plt.show()\n",
    "widgets.interact(plot_gain,potentionmeter=(0.0,1),R_3=(1e2,1e4))\n"
   ]
  }
 ],
 "metadata": {
  "kernelspec": {
   "display_name": "sfg",
   "language": "python",
   "name": "python3"
  },
  "language_info": {
   "codemirror_mode": {
    "name": "ipython",
    "version": 3
   },
   "file_extension": ".py",
   "mimetype": "text/x-python",
   "name": "python",
   "nbconvert_exporter": "python",
   "pygments_lexer": "ipython3",
   "version": "3.11.0"
  },
  "orig_nbformat": 4,
  "vscode": {
   "interpreter": {
    "hash": "0a3d879a7ddb47fefd2ee3bbcd1002688a6760ea31c98b2a9326ab56beefac98"
   }
  }
 },
 "nbformat": 4,
 "nbformat_minor": 2
}
