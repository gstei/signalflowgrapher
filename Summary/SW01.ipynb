{
 "cells": [
  {
   "attachments": {},
   "cell_type": "markdown",
   "metadata": {},
   "source": [
    "# SW01"
   ]
  },
  {
   "attachments": {},
   "cell_type": "markdown",
   "metadata": {},
   "source": [
    "- The **threshold** is the voltage which distinguishes between low and high voltage (CMOS: typically VDD/2)\n",
    "- Threshold depends of temperature, supply voltage, silicon process\n",
    "- Definition of two threshold Vih and Vil:\n",
    "    - ‘1’ must be higher than $V_{ih}$\n",
    "    - ‘0’ must be lower than $V_{il}$\n",
    "- Clock: Threshold defines\n",
    "characteristics of clock signal"
   ]
  },
  {
   "attachments": {},
   "cell_type": "markdown",
   "metadata": {},
   "source": [
    "Propagation Delay of ideal (lossless) Transmission Line:\n",
    "$$\n",
    "t_{P D}=\\sqrt{L_{\\Delta x} \\cdot C_{\\Delta x}}\n",
    "$$\n",
    "Propagation Delay by dielectric constant $\\varepsilon_r$ :\n",
    "$$\n",
    "t_{P D}=\\frac{\\sqrt{\\varepsilon_r}}{c}\n",
    "$$\n",
    "Example: $\\mathrm{t}_{\\mathrm{rf}}=1 \\mathrm{~ns}$\n",
    "\n",
    "Example FR4 outer trace: $t_{P D}=140 \\mathrm{~ns}$\n",
    "\n",
    "Example: $L=\\frac{1000 \\mathrm{ps}}{140 \\frac{p s}{\\text { inch }}}=7.1 \\mathrm{inch}$"
   ]
  },
  {
   "attachments": {},
   "cell_type": "markdown",
   "metadata": {},
   "source": [
    "What is the unit of t_PD?"
   ]
  },
  {
   "attachments": {},
   "cell_type": "markdown",
   "metadata": {},
   "source": [
    "#### Exercise Wire Delay\n",
    "\n",
    "<div style=\"padding: 15px; border: 1px solid transparent; border-color: transparent; margin-bottom: 20px; border-radius: 4px; color: #3c763d; background-color: #dff0d8; border-color: #d6e9c6;\">\n",
    "We have traces laid out on a PCB using copper wires on FR4 material. What is the wire delay for a trace of 100 mm length?\n",
    "</div>"
   ]
  },
  {
   "attachments": {},
   "cell_type": "markdown",
   "metadata": {},
   "source": [
    "\n",
    "From the table on slide 13 we get a flight time of $180 \\mathrm{ps} /$ inch for an inner layer of a FR4 PCB (faster for outer traces, because their $\\varepsilon_r$ is smaller).\n",
    "A trace with length $100 \\mathrm{~mm}$ thus has a propagation delay of\n",
    "$$\n",
    "t_p=\\frac{180 \\frac{p s}{\\text { inch }} * 100 \\mathrm{~mm}}{25.4 \\frac{\\mathrm{mm}}{\\text { inch }}}=709 \\mathrm{ps}\n",
    "$$\n",
    "\n"
   ]
  },
  {
   "attachments": {},
   "cell_type": "markdown",
   "metadata": {},
   "source": [
    "#### Exercises 1.2 about signaling\n",
    "- Understanding signaling methods\n",
    "    - What is the difference between bit rate and symbol rate? What are the units for the two rates?\n",
    "    - Suppose a QAM-256 System in DVB-C (=today's HDTV over cable) on a 8MHz channel. Forward error correction is done with Reed-Solomon RS (204,188) code (which means that 188 used bytes are coded into 204 transmitted bytes) and (due to SNR) a ratio of 1.15 between  bandwidth and symbol rate. What is the resulting maximal bit rate?\n",
    "- Compare data rates\n",
    "    - What are max. data rates of parallel systems (such as SCSI etc.) and serial systems?\n",
    "    - Which type of communication system (parallel data or serial data) allows for a higher data rate at similar power consumption?\n",
    "    - Why?"
   ]
  },
  {
   "attachments": {},
   "cell_type": "markdown",
   "metadata": {},
   "source": [
    "#### Exercises 1.3 about signaling\n",
    "- Differential signaling\n",
    "    - What is the reason for differential signaling?\n",
    "    - Give examples of differential signaling methods\n",
    "    - Explain the function of the SGMII / QSGMII interface and the usage of SERDES"
   ]
  },
  {
   "attachments": {},
   "cell_type": "markdown",
   "metadata": {},
   "source": [
    "#### Exercises 1.4 about CDR\n",
    "- CDR\n",
    "    - What is the reason to use clock data recovery?\n",
    "    - What is the reason for the use of n-th-rate phase detector?\n",
    "    - What are the characteristic differences between the CDR methods?"
   ]
  },
  {
   "cell_type": "code",
   "execution_count": null,
   "metadata": {},
   "outputs": [],
   "source": []
  }
 ],
 "metadata": {
  "language_info": {
   "name": "python"
  },
  "orig_nbformat": 4
 },
 "nbformat": 4,
 "nbformat_minor": 2
}
