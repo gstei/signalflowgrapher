{
 "cells": [
  {
   "attachments": {},
   "cell_type": "markdown",
   "metadata": {},
   "source": [
    "# SW3\n",
    "\n",
    "<p align=\"center\">\n",
    "<img src=\"Figures/SW3_01.png\"\n",
    "     width=40% />\n",
    "</p>\n",
    "\n",
    "From the lecture we know that AD797 could look like the following\n",
    "\n",
    "<p align=\"center\">\n",
    "<img src=\"Figures/SW3_03.png\"\n",
    "     width=40% />\n",
    "</p>\n",
    "\n",
    "Therefore we know A and whith this on can draw the signal flow grapher, start it the following command `python .\\src\\main\\python\\main.py` in the 'signalflowgrapher' folder (make also sure the correct environment is activated `conda activate sfg`)\n",
    "\n",
    "<p align=\"center\">\n",
    "<img src=\"Figures/SW3_02.png\"\n",
    "     width=40% />\n",
    "</p>\n",
    "\n",
    "The Triangle node in the bottom one can simply draw whit the following equaiton: $$(V_{in}-V_4)\\cdot G_x=I_{in}$$\n",
    "\n",
    "<p align=\"center\">\n",
    "<img src=\"Figures/SW3_04.png\"\n",
    "     width=40% />\n",
    "</p>\n",
    "\n"
   ]
  },
  {
   "attachments": {},
   "cell_type": "markdown",
   "metadata": {},
   "source": [
    "For a) The current through $G_y$ is: the following expression times $V_{in}$"
   ]
  },
  {
   "cell_type": "code",
   "execution_count": 1,
   "metadata": {},
   "outputs": [
    {
     "data": {
      "text/latex": [
       "$\\displaystyle \\frac{G_{x} G_{y} \\left(0.5 A + 1\\right)}{- A G + \\left(0.5 A + 1\\right) \\left(G + G_{x} + G_{y}\\right)}$"
      ],
      "text/plain": [
       "G_x*G_y*(0.5*A + 1)/(-A*G + (0.5*A + 1)*(G + G_x + G_y))"
      ]
     },
     "metadata": {},
     "output_type": "display_data"
    }
   ],
   "source": [
    "import sympy as sp\n",
    "Delta = sp.symbols('Delta')\n",
    "L1,L2 = sp.symbols('L1,L2')\n",
    "T_num = sp.symbols('T_num')\n",
    "T_den = sp.symbols('T_den')\n",
    "T_io = sp.symbols('T_io')\n",
    "A,G_y,G_x,G = sp.symbols('A,G_y,G_x,G')\n",
    "\n",
    "loops = [(L1, -1/2*A), (L2, A*G/(G + G_x + G_y))]\n",
    "determinant = [(Delta, -L1 - L2 + 1)]\n",
    "denominator = [(T_den, Delta)]\n",
    "\n",
    "P1,D1 = sp.symbols('P1,D1')\n",
    "paths = [(P1, G_x*G_y/(G + G_x + G_y)), (D1, 1 - L1)]\n",
    "numerator = [(T_num, D1*P1)]\n",
    "\n",
    "transfer_function = [(T_io, T_num/T_den)]\n",
    "T=T_io.subs(transfer_function).subs(numerator).subs(denominator).subs(determinant).subs(paths).subs(loops).simplify()\n",
    "display(T)"
   ]
  },
  {
   "attachments": {},
   "cell_type": "markdown",
   "metadata": {},
   "source": [
    "To do the same thing from hand one would need to do the following:\n",
    "\n",
    "<p align=\"center\">\n",
    "<img src=\"Figures/SW3_05.png\"\n",
    "     width=40% />\n",
    "</p>\n",
    "\n",
    "$\\begin{array}{l}V_{\\text {in }} \\rightarrow I_4 \\\\ \n",
    "P_1=G_x \\cdot\\left(\\frac{1}{G+G_x+G_y}\\right) \\cdot G_y \\\\ \n",
    "L_1=(-A) \\cdot G \\cdot \\frac{1}{2 G}=-\\frac{A}{2} \\\\ \n",
    "L_2=A \\cdot G \\cdot \\frac{1}{G+G_x+G y} \\\\ \n",
    "\\Delta=1-L_1-L_2=1+\\frac{A}{2}-A \\cdot G \\cdot \\frac{1}{G+G_x+G_y} \\\\ \n",
    "\\Delta_1=1+\\frac{A}{2} \\\\ \n",
    "T=\\frac{V_{i n}}{I_4}=\\frac{G_x \\cdot\\left(\\frac{1}{G+G_y+G_x}\\right) \\cdot G_y \\cdot\\left(1+\\frac{A}{2}\\right)}{1+\\frac{A}{2}-A \\cdot G \\cdot \\frac{1}{G+G_x+G_y}} \\mid \\cdot G+G_y+G_x \\\\ =\\frac{G_x \\cdot G_y \\cdot\\left(1+\\frac{A}{2}\\right)}{\\left(1+\\frac{A}{2}\\right)\\left(G+G_x+G_y\\right)-A \\cdot G} \\\\\\end{array}$\n",
    "\n",
    "The current $I_4$ is therefore $\\frac{V_{in}}{\\frac{G_x \\cdot G_y \\cdot\\left(1+\\frac{A}{2}\\right)}{\\left(1+\\frac{A}{2}\\right)\\left(G+G_x+G_y\\right)-A \\cdot G}}$\n",
    "### b)\n",
    "For invinite gain one gets\n",
    "$$\\frac{V_{in}}{\\frac{G_x \\cdot G_y}{-G+G_x+G_y}}$$\n",
    "To make the current independent of $G_y$ one has to choose $G_x=G$ Due to that $G_y$ cancels out"
   ]
  },
  {
   "attachments": {},
   "cell_type": "markdown",
   "metadata": {},
   "source": [
    "## c)\n",
    "using $G=G_x$ on gets the following formula:\n",
    "$$\n",
    "\\begin{array}{l}\n",
    "\\frac{G_x \\cdot G_y \\cdot\\left(1+\\frac{A}{2}\\right)}{\\left(1+\\frac{A}{2}\\right)\\left(G+G_x+G_y\\right)-A \\cdot G}\\mid \\cdot 2, G=G_x\\\\\n",
    "\\frac{G \\cdot G_y \\cdot\\left(2+A\\right)}{\\left(2+A\\right)\\left(2 \\cdot G + G_y\\right)-2\\cdot A \\cdot G}\\\\\n",
    "\\frac{G \\cdot G_y \\cdot\\left(2+\\frac{\\omega_1}{s}\\right)}{\\left(2+\\frac{\\omega_1}{s}\\right)\\left(2 \\cdot G + G_y\\right)-2\\cdot \\frac{\\omega_1}{s} \\cdot G}\\mid \\cdot s\\\\\n",
    "\\frac{2 \\cdot G \\cdot G_y \\cdot s + G \\cdot G_y \\cdot \\omega_1}{2 \\cdot s \\left(2 \\cdot G + G_y\\right)+ G_y \\cdot \\omega_1 }\\end{array}\n",
    "$$\n",
    "To get the bandwidth we set $s$ to zero for the numerator and the denominator.\n",
    "\n",
    "For the numerator we therefore get: $-\\frac{\\omega_1}{2}$ and the denominator $-\\frac{G_y\\cdot \\omega_1}{4\\cdot G + 2 \\cdot G_y}$"
   ]
  },
  {
   "cell_type": "code",
   "execution_count": 2,
   "metadata": {},
   "outputs": [
    {
     "name": "stdout",
     "output_type": "stream",
     "text": [
      "Gain at 0Hz=0.001=-60.0dB\n",
      "Gain at inv Hz=4.975124378109453e-06=-106.06392114840978dB\n",
      "corner frequency=55.0MHz and 0.2736318407960199MHz\n",
      "[4.02e-03 1.10e+03]\n",
      "\n",
      " 2e-08 s + 1.1\n",
      "----------------\n",
      "0.00402 s + 1100\n",
      "\n"
     ]
    },
    {
     "ename": "NameError",
     "evalue": "name 'mag' is not defined",
     "output_type": "error",
     "traceback": [
      "\u001b[1;31m---------------------------------------------------------------------------\u001b[0m",
      "\u001b[1;31mNameError\u001b[0m                                 Traceback (most recent call last)",
      "Cell \u001b[1;32mIn[2], line 19\u001b[0m\n\u001b[0;32m     17\u001b[0m \u001b[39mprint\u001b[39m(G)\n\u001b[0;32m     18\u001b[0m \u001b[39m# mag, phase, w = ml.bode(G, dB=True, Hz=True)\u001b[39;00m\n\u001b[1;32m---> 19\u001b[0m index \u001b[39m=\u001b[39m np\u001b[39m.\u001b[39mwhere(\u001b[39m20\u001b[39m\u001b[39m*\u001b[39mnp\u001b[39m.\u001b[39mlog10(mag\u001b[39m/\u001b[39mmag[\u001b[39m0\u001b[39m]) \u001b[39m<\u001b[39m\u001b[39m=\u001b[39m \u001b[39m-\u001b[39m\u001b[39m3\u001b[39m)[\u001b[39m0\u001b[39m][\u001b[39m0\u001b[39m] \u001b[39m# find the index of the first element that is <=-3\u001b[39;00m\n\u001b[0;32m     20\u001b[0m f_3db \u001b[39m=\u001b[39m w[index]\u001b[39m/\u001b[39m(\u001b[39m2\u001b[39m\u001b[39m*\u001b[39mnp\u001b[39m.\u001b[39mpi) \u001b[39m# get the corresponding frequency\u001b[39;00m\n\u001b[0;32m     21\u001b[0m index2 \u001b[39m=\u001b[39m np\u001b[39m.\u001b[39mwhere(phase\u001b[39m*\u001b[39m\u001b[39m180\u001b[39m\u001b[39m/\u001b[39mnp\u001b[39m.\u001b[39mpi \u001b[39m<\u001b[39m\u001b[39m=\u001b[39m \u001b[39m-\u001b[39m\u001b[39m45\u001b[39m)[\u001b[39m0\u001b[39m][\u001b[39m0\u001b[39m] \u001b[39m# find the index of the first element that is <=-3\u001b[39;00m\n",
      "\u001b[1;31mNameError\u001b[0m: name 'mag' is not defined"
     ]
    }
   ],
   "source": [
    "w_1=110e6\n",
    "G_a=1/1e3\n",
    "G_y=1/100e3\n",
    "import numpy as np\n",
    "import matplotlib.pyplot as plt\n",
    "import control.matlab as ml\n",
    "import ipywidgets as widgets\n",
    "from IPython.display import display\n",
    "print(f\"Gain at 0Hz={(G_a*G_y*w_1)/(G_y*w_1)}={20*np.log10((G_a*G_y*w_1)/(G_y*w_1))}dB\")\n",
    "print(f\"Gain at inv Hz={(G_a*G_y*2)/(4*G_a+2*G_y)}={20*np.log10((G_a*G_y*2)/(4*G_a+2*G_y))}dB\")\n",
    "print(f\"corner frequency={w_1/2*1e-6}MHz and {G_y*w_1/(4*G_a+2*G_y)*1e-6}MHz\")\n",
    "num = np.array([G_a*G_y*2,G_a*G_y*w_1])\n",
    "# den = np.polymul(np.array([1,1]),np.array([1,100]))\n",
    "den = np.array([4*G_a+2*G_y,G_y*w_1])\n",
    "print(den)\n",
    "G = ml.tf(num,den)\n",
    "print(G)\n",
    "# mag, phase, w = ml.bode(G, dB=True, Hz=True)\n",
    "index = np.where(20*np.log10(mag/mag[0]) <= -3)[0][0] # find the index of the first element that is <=-3\n",
    "f_3db = w[index]/(2*np.pi) # get the corresponding frequency\n",
    "index2 = np.where(phase*180/np.pi <= -45)[0][0] # find the index of the first element that is <=-3\n",
    "f_3db2 = w[index2]/(2*np.pi) # get the corresponding frequency\n",
    "print(f\"3dB frequency={f_3db/1e6}MHz\")\n",
    "print(f\"3dB frequency={f_3db2/1e6}MHz\")\n",
    "# plt.show()\n",
    "\n",
    "from matplotlib.widgets import Slider\n",
    "\n",
    "\n",
    "\n",
    "        \n",
    "def plot_gain(R_1):\n",
    "    G_y=1/R_1\n",
    "    w_1=110e6\n",
    "    G_a=1/1e3\n",
    "    \"\"\"A function to plot the gain of the amplifier\"\"\"\n",
    "    num = np.array([G_a*G_y*2,G_a*G_y*w_1])\n",
    "    den = np.array([4*G_a+2*G_y,G_y*w_1])\n",
    "    # den = np.array([1])\n",
    "    G = ml.tf(num,den)\n",
    "    plt.figure(figsize=(10,6))\n",
    "    # plt.title('Bode plot of the amplifier')\n",
    "    mag, phase, w = ml.bode(G, dB=True, Hz=True)\n",
    "    plt.show()\n",
    "slider=widgets.interact(plot_gain,R_1=(1e3,100e3))"
   ]
  }
 ],
 "metadata": {
  "kernelspec": {
   "display_name": "sfg",
   "language": "python",
   "name": "python3"
  },
  "language_info": {
   "codemirror_mode": {
    "name": "ipython",
    "version": 3
   },
   "file_extension": ".py",
   "mimetype": "text/x-python",
   "name": "python",
   "nbconvert_exporter": "python",
   "pygments_lexer": "ipython3",
   "version": "3.11.0"
  },
  "orig_nbformat": 4
 },
 "nbformat": 4,
 "nbformat_minor": 2
}
